{
 "cells": [
  {
   "cell_type": "code",
   "execution_count": 3,
   "metadata": {},
   "outputs": [
    {
     "name": "stdout",
     "output_type": "stream",
     "text": [
      "2.0.0\n"
     ]
    }
   ],
   "source": [
    "import tensorflow as tf\n",
    "from tensorflow.keras.models import Model\n",
    "from tensorflow.keras.layers import Dense, Flatten, Dropout, Softmax, concatenate, Layer\n",
    "import numpy as np\n",
    "import matplotlib.pyplot as plt\n",
    "import time\n",
    "print(tf.__version__)"
   ]
  },
  {
   "cell_type": "markdown",
   "metadata": {},
   "source": [
    "# Automatic differentiation for linear regression in Tensorflow"
   ]
  },
  {
   "cell_type": "markdown",
   "metadata": {},
   "source": [
    "#### Start by creating linear noisy data"
   ]
  },
  {
   "cell_type": "code",
   "execution_count": 118,
   "metadata": {},
   "outputs": [
    {
     "data": {
      "text/plain": [
       "[<matplotlib.lines.Line2D at 0x6739a5810>]"
      ]
     },
     "execution_count": 118,
     "metadata": {},
     "output_type": "execute_result"
    },
    {
     "data": {
      "image/png": "[encoded data removed]",
      "text/plain": [
       "<Figure size 432x288 with 1 Axes>"
      ]
     },
     "metadata": {
      "needs_background": "light"
     },
     "output_type": "display_data"
    }
   ],
   "source": [
    "def make_noisy_data(m, b, n=20):\n",
    "  x = tf.random.uniform(shape=(n,))\n",
    "  noise = tf.random.normal(shape=(len(x),), stddev=0.1)\n",
    "  y = m * x + b + noise\n",
    "  return x, y\n",
    "\n",
    "m=1\n",
    "b=2\n",
    "x_train, y_train = make_noisy_data(m,b)\n",
    "plt.plot(x_train, y_train, 'b.')"
   ]
  },
  {
   "cell_type": "markdown",
   "metadata": {},
   "source": [
    "#### Define the linear regression layer with model subclassing"
   ]
  },
  {
   "cell_type": "code",
   "execution_count": 119,
   "metadata": {},
   "outputs": [
    {
     "name": "stdout",
     "output_type": "stream",
     "text": [
      "tf.Tensor(\n",
      "[0.06456464 0.06968652 0.07973957 0.06021856 0.05511346 0.06440075\n",
      " 0.05527481 0.06128107 0.08369915 0.06188967 0.06250501 0.06386448\n",
      " 0.07557607 0.0609735  0.06782776 0.05824599 0.06527061 0.076438\n",
      " 0.08428142 0.06456583], shape=(20,), dtype=float32)\n",
      "[<tf.Variable 'Variable:0' shape=(1,) dtype=float32, numpy=array([-0.03385649], dtype=float32)>, <tf.Variable 'Variable:0' shape=(1,) dtype=float32, numpy=array([0.08892126], dtype=float32)>]\n"
     ]
    }
   ],
   "source": [
    "class linear_layer(Layer):\n",
    "\n",
    "  def __init__(self):\n",
    "    super(linear_layer, self).__init__()\n",
    "    self.m = self.add_weight(shape=(1,),\n",
    "                             initializer='random_normal',\n",
    "                             trainable=True)\n",
    "    self.b = self.add_weight(shape=(1,),\n",
    "                             initializer='random_normal',\n",
    "                             trainable=True)\n",
    "  def call(self, inputs):\n",
    "    return self.m*inputs+self.b\n",
    "\n",
    "linear_regression = linear_layer() \n",
    "\n",
    "print(linear_regression(x_train))\n",
    "print(linear_regression.weights)"
   ]
  },
  {
   "cell_type": "markdown",
   "metadata": {},
   "source": [
    "#### Define the loss function"
   ]
  },
  {
   "cell_type": "code",
   "execution_count": 120,
   "metadata": {},
   "outputs": [
    {
     "name": "stdout",
     "output_type": "stream",
     "text": [
      "Starting loss 6.744391\n"
     ]
    }
   ],
   "source": [
    "def squared_error(y_pred, y_true):\n",
    "  return tf.reduce_mean(tf.square(y_pred - y_true)) \n",
    "\n",
    "starting_loss = squared_error(linear_regression(x_train), y_train)\n",
    "print(\"Starting loss\", starting_loss.numpy())"
   ]
  },
  {
   "cell_type": "markdown",
   "metadata": {},
   "source": [
    "#### Use `tf.GradientTape()` to obtain the gradients for the training loop"
   ]
  },
  {
   "cell_type": "code",
   "execution_count": 121,
   "metadata": {},
   "outputs": [
    {
     "name": "stdout",
     "output_type": "stream",
     "text": [
      "Step 0, Loss 6.744391\n",
      "Step 1, Loss 4.934224\n",
      "Step 2, Loss 3.610233\n",
      "Step 3, Loss 2.641840\n",
      "Step 4, Loss 1.933540\n",
      "Step 5, Loss 1.415475\n",
      "Step 6, Loss 1.036552\n",
      "Step 7, Loss 0.759401\n",
      "Step 8, Loss 0.556687\n",
      "Step 9, Loss 0.408419\n",
      "Step 10, Loss 0.299972\n",
      "Step 11, Loss 0.220652\n",
      "Step 12, Loss 0.162635\n",
      "Step 13, Loss 0.120201\n",
      "Step 14, Loss 0.089164\n",
      "Step 15, Loss 0.066462\n",
      "Step 16, Loss 0.049858\n",
      "Step 17, Loss 0.037713\n",
      "Step 18, Loss 0.028830\n",
      "Step 19, Loss 0.022333\n",
      "Step 20, Loss 0.017580\n",
      "Step 21, Loss 0.014104\n",
      "Step 22, Loss 0.011562\n",
      "Step 23, Loss 0.009702\n",
      "Step 24, Loss 0.008342\n"
     ]
    }
   ],
   "source": [
    "learning_rate = 0.05\n",
    "steps = 25\n",
    "\n",
    "for i in range(steps):\n",
    "  \n",
    "  with tf.GradientTape() as tape:\n",
    "    predictions = linear_regression(x_train)\n",
    "    loss = squared_error(predictions, y_train)\n",
    "    \n",
    "  gradients = tape.gradient(loss, linear_regression.trainable_variables)\n",
    "\n",
    "  linear_regression.m.assign_sub(learning_rate * gradients[0])\n",
    "  linear_regression.b.assign_sub(learning_rate * gradients[1])\n",
    " \n",
    "  print(\"Step %d, Loss %f\" % (i, loss.numpy()))"
   ]
  },
  {
   "cell_type": "markdown",
   "metadata": {},
   "source": [
    "#### Print the trained values of m and b and plot the linear regression"
   ]
  },
  {
   "cell_type": "code",
   "execution_count": 122,
   "metadata": {},
   "outputs": [
    {
     "name": "stdout",
     "output_type": "stream",
     "text": [
      "m:1,  trained m:[1.15737]\n",
      "b:2,  trained b:[1.8358296]\n"
     ]
    },
    {
     "data": {
      "text/plain": [
       "[<matplotlib.lines.Line2D at 0x67499ccd0>]"
      ]
     },
     "execution_count": 122,
     "metadata": {},
     "output_type": "execute_result"
    },
    {
     "data": {
      "image/png": "[encoded data removed]",
      "text/plain": [
       "<Figure size 432x288 with 1 Axes>"
      ]
     },
     "metadata": {
      "needs_background": "light"
     },
     "output_type": "display_data"
    }
   ],
   "source": [
    "print(\"m:{},  trained m:{}\".format(m,linear_regression.m.numpy()))\n",
    "print(\"b:{},  trained b:{}\".format(b,linear_regression.b.numpy()))\n",
    "\n",
    "plt.plot(x_train, y_train, 'b.')\n",
    "\n",
    "x_linear_regression=np.linspace(min(x_train), max(x_train),50)\n",
    "plt.plot(x_linear_regression, linear_regression.m*x_linear_regression+linear_regression.b, 'r.')"
   ]
  }
 ],
 "metadata": {
  "kernelspec": {
   "display_name": "Python 3",
   "language": "python",
   "name": "python3"
  },
  "language_info": {
   "codemirror_mode": {
    "name": "ipython",
    "version": 3
   },
   "file_extension": ".py",
   "mimetype": "text/x-python",
   "name": "python",
   "nbconvert_exporter": "python",
   "pygments_lexer": "ipython3",
   "version": "3.7.4"
  }
 },
 "nbformat": 4,
 "nbformat_minor": 2
}
